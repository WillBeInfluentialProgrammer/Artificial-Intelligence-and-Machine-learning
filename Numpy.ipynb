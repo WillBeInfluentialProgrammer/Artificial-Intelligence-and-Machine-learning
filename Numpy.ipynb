{
 "cells": [
  {
   "cell_type": "markdown",
   "metadata": {},
   "source": [
    "<h4>Numpy assignment#1<h4>"
   ]
  },
  {
   "cell_type": "code",
   "execution_count": 35,
   "metadata": {},
   "outputs": [],
   "source": [
    "import pandas as pd\n",
    "import numpy as np"
   ]
  },
  {
   "cell_type": "code",
   "execution_count": 36,
   "metadata": {},
   "outputs": [
    {
     "name": "stdout",
     "output_type": "stream",
     "text": [
      "[1 2 3 4]\n"
     ]
    }
   ],
   "source": [
    "a = np.array([1,2,3,4])\n",
    "b = np.array([[1,2,3,4],[5,6,7,8]])\n",
    "c = np.array([5])\n",
    "print(a)"
   ]
  },
  {
   "cell_type": "code",
   "execution_count": 37,
   "metadata": {},
   "outputs": [
    {
     "name": "stdout",
     "output_type": "stream",
     "text": [
      "[[1 2 3 4]\n",
      " [5 6 7 8]]\n",
      "------------------------------\n",
      "[5]\n"
     ]
    }
   ],
   "source": [
    "print(b)\n",
    "\n",
    "print (\"------------------------------\")\n",
    "\n",
    "print(c)"
   ]
  },
  {
   "cell_type": "code",
   "execution_count": 38,
   "metadata": {},
   "outputs": [
    {
     "name": "stdout",
     "output_type": "stream",
     "text": [
      "[0. 0. 0. 0. 0.]\n"
     ]
    }
   ],
   "source": [
    "c = np.zeros(c)\n",
    "print(c)"
   ]
  },
  {
   "cell_type": "code",
   "execution_count": 39,
   "metadata": {},
   "outputs": [
    {
     "name": "stdout",
     "output_type": "stream",
     "text": [
      "[[[[1. 1. 1. 1.]\n",
      "   [1. 1. 1. 1.]\n",
      "   [1. 1. 1. 1.]]\n",
      "\n",
      "  [[1. 1. 1. 1.]\n",
      "   [1. 1. 1. 1.]\n",
      "   [1. 1. 1. 1.]]]]\n"
     ]
    }
   ],
   "source": [
    "a= np.ones(a)\n",
    "print(a)"
   ]
  },
  {
   "cell_type": "code",
   "execution_count": 40,
   "metadata": {},
   "outputs": [
    {
     "name": "stdout",
     "output_type": "stream",
     "text": [
      "[ 6  8 10 12]\n",
      "[ 5 12 21 32]\n",
      "[4 6 6 4]\n",
      "[0.2        0.25       0.33333333 0.5       ]\n"
     ]
    }
   ],
   "source": [
    "f = np.array([1,2,3,4])\n",
    "g = np.array([5,6,7,8])\n",
    "h = np.array([5,8,9,8])\n",
    "\n",
    "x = f + g\n",
    "print(x)\n",
    "\n",
    "y = f * g\n",
    "print(y)\n",
    "\n",
    "x = h - f\n",
    "print(x)\n",
    "\n",
    "y = f / h\n",
    "print(y)\n",
    "\n"
   ]
  },
  {
   "cell_type": "code",
   "execution_count": 41,
   "metadata": {},
   "outputs": [
    {
     "name": "stdout",
     "output_type": "stream",
     "text": [
      "[2.         2.44948974 2.44948974 2.        ]\n"
     ]
    }
   ],
   "source": [
    "x = np.sqrt(x)\n",
    "print(x)"
   ]
  },
  {
   "cell_type": "code",
   "execution_count": 42,
   "metadata": {},
   "outputs": [
    {
     "name": "stdout",
     "output_type": "stream",
     "text": [
      "[1.22140276 1.28402542 1.39561243 1.64872127]\n"
     ]
    }
   ],
   "source": [
    "y = np.exp(y)\n",
    "print(y)"
   ]
  },
  {
   "cell_type": "code",
   "execution_count": 43,
   "metadata": {},
   "outputs": [
    {
     "name": "stdout",
     "output_type": "stream",
     "text": [
      "[1.60943791 2.07944154 2.19722458 2.07944154]\n"
     ]
    }
   ],
   "source": [
    "h = np.log(h)\n",
    "print(h)"
   ]
  },
  {
   "cell_type": "code",
   "execution_count": 44,
   "metadata": {},
   "outputs": [
    {
     "name": "stdout",
     "output_type": "stream",
     "text": [
      "[[ 1  2  3  4]\n",
      " [ 5  6  7  8]\n",
      " [ 9 10 11 12]]\n"
     ]
    }
   ],
   "source": [
    "h = np.arange(1,13).reshape(3,4)\n",
    "print(h)"
   ]
  },
  {
   "cell_type": "code",
   "execution_count": 45,
   "metadata": {},
   "outputs": [
    {
     "name": "stdout",
     "output_type": "stream",
     "text": [
      "[ 1  2  3  4  5  6  7  8  9 10 11 12]\n"
     ]
    }
   ],
   "source": [
    "i = h.ravel() #flattening \n",
    "print(i)"
   ]
  },
  {
   "cell_type": "code",
   "execution_count": 46,
   "metadata": {},
   "outputs": [
    {
     "name": "stdout",
     "output_type": "stream",
     "text": [
      "[[ 1  5  9]\n",
      " [ 2  6 10]\n",
      " [ 3  7 11]\n",
      " [ 4  8 12]]\n"
     ]
    }
   ],
   "source": [
    "j = h.T\n",
    "print(j)"
   ]
  },
  {
   "cell_type": "code",
   "execution_count": 47,
   "metadata": {},
   "outputs": [],
   "source": [
    "#b= np.eye(b)\n",
    "#print(b)\n",
    "\n",
    "#b = np.arange(b)\n",
    "#c = np.linespace(c)\n",
    "#print(b)\n",
    "#print(c)"
   ]
  },
  {
   "cell_type": "code",
   "execution_count": 48,
   "metadata": {},
   "outputs": [
    {
     "data": {
      "text/plain": [
       "array([[ 2,  3],\n",
       "       [ 6,  7],\n",
       "       [10, 11]])"
      ]
     },
     "execution_count": 48,
     "metadata": {},
     "output_type": "execute_result"
    }
   ],
   "source": [
    "h[:, 1:3]"
   ]
  },
  {
   "cell_type": "code",
   "execution_count": 49,
   "metadata": {},
   "outputs": [
    {
     "name": "stdout",
     "output_type": "stream",
     "text": [
      "3.8333333333333335\n"
     ]
    }
   ],
   "source": [
    "m = np.array([1,2,4,6,8,2])\n",
    "mean = np.mean(m)\n",
    "print(mean)"
   ]
  },
  {
   "cell_type": "code",
   "execution_count": 50,
   "metadata": {},
   "outputs": [
    {
     "name": "stdout",
     "output_type": "stream",
     "text": [
      "3.0\n"
     ]
    }
   ],
   "source": [
    "median = np.median(m)\n",
    "print(median)"
   ]
  },
  {
   "cell_type": "code",
   "execution_count": 51,
   "metadata": {},
   "outputs": [
    {
     "name": "stdout",
     "output_type": "stream",
     "text": [
      "2.4776781245530843\n"
     ]
    }
   ],
   "source": [
    "std = np.std(m)\n",
    "print(std)"
   ]
  },
  {
   "cell_type": "code",
   "execution_count": 52,
   "metadata": {},
   "outputs": [
    {
     "name": "stdout",
     "output_type": "stream",
     "text": [
      "6.138888888888888\n"
     ]
    }
   ],
   "source": [
    "var = np.var(m)\n",
    "print(var)"
   ]
  },
  {
   "cell_type": "code",
   "execution_count": 53,
   "metadata": {},
   "outputs": [],
   "source": [
    "#mod = np.mod(m)\n",
    "#print(mod)"
   ]
  },
  {
   "cell_type": "code",
   "execution_count": 54,
   "metadata": {},
   "outputs": [
    {
     "name": "stdout",
     "output_type": "stream",
     "text": [
      "23\n"
     ]
    }
   ],
   "source": [
    "sum = np.sum(m)\n",
    "print(sum)"
   ]
  },
  {
   "cell_type": "code",
   "execution_count": 55,
   "metadata": {},
   "outputs": [
    {
     "name": "stdout",
     "output_type": "stream",
     "text": [
      "[[16 21]\n",
      " [37 48]]\n"
     ]
    }
   ],
   "source": [
    "n = np.array([[2,3], [5,6]])\n",
    "o = np.array([[5,6], [2,3]])\n",
    "p = np.dot(n, o)\n",
    "print(p)\n"
   ]
  },
  {
   "cell_type": "code",
   "execution_count": 56,
   "metadata": {},
   "outputs": [
    {
     "name": "stdout",
     "output_type": "stream",
     "text": [
      "-2.9999999999999982\n",
      "------------------\n",
      "[[ 1.         -2.        ]\n",
      " [-0.66666667  1.66666667]]\n"
     ]
    }
   ],
   "source": [
    "det = np.linalg.det(n)\n",
    "inv = np.linalg.inv(o)\n",
    "\n",
    "print(det)\n",
    "\n",
    "print(\"------------------\")\n",
    " \n",
    "print(inv)"
   ]
  },
  {
   "cell_type": "code",
   "execution_count": 57,
   "metadata": {},
   "outputs": [],
   "source": [
    "np.save('array.npy', n )"
   ]
  },
  {
   "cell_type": "markdown",
   "metadata": {},
   "source": [
    "<h4>Scenario base assignment#2 of numpy<h4>"
   ]
  },
  {
   "cell_type": "code",
   "execution_count": 58,
   "metadata": {},
   "outputs": [
    {
     "data": {
      "text/plain": [
       "(5275, 175.83333333333334, 18)"
      ]
     },
     "execution_count": 58,
     "metadata": {},
     "output_type": "execute_result"
    }
   ],
   "source": [
    "# Sample data\n",
    "Sales = np.array([100, 150, 200, 175, 130, 90, 220, 160, 140, 180, 210, 190, 230, 120, 110, 240, 130, 250, 140, 180, 220, 190, 210, 200, 160, 170, 190, 200, 180, 210])\n",
    "\n",
    "# Total sales\n",
    "totalsales = np.sum(Sales)\n",
    "\n",
    "# Average sales\n",
    "averagesales = np.mean(Sales)\n",
    "\n",
    "# Day with highest sales\n",
    "day_with_highest_sales = np.argmax(Sales) + 1  # Adding 1 to match day count\n",
    "\n",
    "totalsales, averagesales, day_with_highest_sales\n"
   ]
  },
  {
   "cell_type": "markdown",
   "metadata": {},
   "source": [
    "<h4>Weather Data Processing<h4>"
   ]
  },
  {
   "cell_type": "code",
   "execution_count": 68,
   "metadata": {},
   "outputs": [
    {
     "data": {
      "text/plain": [
       "array([64.33333333, 66.        , 81.        , 73.        , 67.66666667,\n",
       "       71.66666667, 51.33333333])"
      ]
     },
     "execution_count": 68,
     "metadata": {},
     "output_type": "execute_result"
    }
   ],
   "source": [
    "# Sample data\n",
    "temp= np.array([\n",
    "    [70, 75, 80, 72, 68, 74, 47],\n",
    "    [51, 76, 81, 73, 65, 75, 78],\n",
    "    [72, 47, 82, 74, 70, 66, 29]\n",
    "])\n",
    "\n",
    "# Average temperature for each day across all weeks\n",
    "average_temp_per_day = np.mean(temp, axis=0)\n",
    "\n",
    "average_temp_per_day\n"
   ]
  },
  {
   "cell_type": "markdown",
   "metadata": {},
   "source": [
    "<h4>Financial Analysis<h4>"
   ]
  },
  {
   "cell_type": "code",
   "execution_count": 71,
   "metadata": {},
   "outputs": [
    {
     "data": {
      "text/plain": [
       "31.0"
      ]
     },
     "execution_count": 71,
     "metadata": {},
     "output_type": "execute_result"
    }
   ],
   "source": [
    "# Sample data\n",
    "prices = np.array([100, 102, 104, 103, 105, 107, 106, 117, 116, 118, 120, 119, 121,129, 130, 131])\n",
    "\n",
    "# Monthly return\n",
    "monthlyreturn = (prices[-1] - prices[0]) / prices[0] * 100\n",
    "\n",
    "monthlyreturn\n"
   ]
  },
  {
   "cell_type": "markdown",
   "metadata": {},
   "source": [
    "<h4>Student Grades Analysis<h4>"
   ]
  },
  {
   "cell_type": "code",
   "execution_count": 72,
   "metadata": {},
   "outputs": [
    {
     "data": {
      "text/plain": [
       "(array([87.66666667, 83.33333333, 92.        , 81.66666667]),\n",
       " array([87. , 88. , 83.5]))"
      ]
     },
     "execution_count": 72,
     "metadata": {},
     "output_type": "execute_result"
    }
   ],
   "source": [
    "# Sample data\n",
    "Grades = np.array([\n",
    "    [85, 90, 88],\n",
    "    [88, 82, 80],\n",
    "    [88, 89, 99],\n",
    "    [87, 91, 67]\n",
    "])\n",
    "\n",
    "# Average grade for each student\n",
    "average_grade_per_student = np.mean(Grades, axis=1)\n",
    "\n",
    "# Overall class average for each subject\n",
    "class_average_per_subject = np.mean(Grades, axis=0)\n",
    "\n",
    "average_grade_per_student, class_average_per_subject\n"
   ]
  },
  {
   "cell_type": "markdown",
   "metadata": {},
   "source": [
    "<h4>  Image Processing <h4>"
   ]
  },
  {
   "cell_type": "code",
   "execution_count": 74,
   "metadata": {},
   "outputs": [
    {
     "data": {
      "text/plain": [
       "array([[0.        , 0.50196078, 1.        ],\n",
       "       [0.17254902, 0.71372549, 0.54117647],\n",
       "       [1.        , 0.21176471, 0.        ]])"
      ]
     },
     "execution_count": 74,
     "metadata": {},
     "output_type": "execute_result"
    }
   ],
   "source": [
    "# Sample data (3x3 grayscale image)\n",
    "images = np.array([\n",
    "    [0, 128, 255],\n",
    "    [44, 182, 138],\n",
    "    [255, 54, 0]\n",
    "])\n",
    "\n",
    "# Normalize pixel values to range 0 to 1\n",
    "normalized_image = images / 255.0\n",
    "\n",
    "normalized_image\n"
   ]
  },
  {
   "cell_type": "markdown",
   "metadata": {},
   "source": [
    "<h4>Population Growth Analysis<h4>"
   ]
  },
  {
   "cell_type": "code",
   "execution_count": 75,
   "metadata": {},
   "outputs": [
    {
     "data": {
      "text/plain": [
       "(array([  9.375     ,   8.57142857,  10.52631579,   9.52380952,\n",
       "        -56.52173913,  10.        ,   9.09090909,   8.33333333,\n",
       "         11.53846154]),\n",
       " 9)"
      ]
     },
     "execution_count": 75,
     "metadata": {},
     "output_type": "execute_result"
    }
   ],
   "source": [
    "# Sample data\n",
    "population = np.array([1600, 1750, 1900, 2100, 2300 , 1000, 1100, 1200, 1300, 1450])\n",
    "\n",
    "# Annual growth rate\n",
    "annualgrowthrate = np.diff(population) / population[:-1] * 100\n",
    "\n",
    "# Year with highest growth\n",
    "yearwithhighestgrowth = np.argmax(annualgrowthrate) + 1  # Adding 1 to match year count\n",
    "\n",
    "annualgrowthrate, yearwithhighestgrowth\n"
   ]
  },
  {
   "cell_type": "markdown",
   "metadata": {},
   "source": [
    "<h4>Traffic Data Analysis<h4>"
   ]
  },
  {
   "cell_type": "code",
   "execution_count": 78,
   "metadata": {},
   "outputs": [
    {
     "data": {
      "text/plain": [
       "(array([2880, 3236, 3214, 3471, 3145, 2678, 3302]), 17)"
      ]
     },
     "execution_count": 78,
     "metadata": {},
     "output_type": "execute_result"
    }
   ],
   "source": [
    "# Sample data (7 days, 24 hours)\n",
    "trafic = np.random.randint(50, 200, size=(7, 24))\n",
    "\n",
    "# Total traffic for each day\n",
    "total_trafic_per_day = np.sum(trafic, axis=1)\n",
    "\n",
    "# Busiest hour of the week\n",
    "busiesthour_of_week = np.argmax(np.sum(trafic, axis=0))\n",
    "\n",
    "total_trafic_per_day, busiesthour_of_week\n"
   ]
  },
  {
   "cell_type": "markdown",
   "metadata": {},
   "source": [
    "<h4> Product Inventory Management <h4>"
   ]
  },
  {
   "cell_type": "code",
   "execution_count": 81,
   "metadata": {},
   "outputs": [
    {
     "data": {
      "text/plain": [
       "array([0, 3, 5], dtype=int64)"
      ]
     },
     "execution_count": 81,
     "metadata": {},
     "output_type": "execute_result"
    }
   ],
   "source": [
    "# Sample data\n",
    "stock_levels = np.array([45, 60, 70, 35, 50, 20])\n",
    "\n",
    "# Reorder products with stock levels below threshold (50 units)\n",
    "reorder_list = np.where(stock_levels < 50)[0]\n",
    "\n",
    "reorder_list\n"
   ]
  },
  {
   "cell_type": "markdown",
   "metadata": {},
   "source": [
    "<h4> Game Score Analysis <h4>"
   ]
  },
  {
   "cell_type": "code",
   "execution_count": 89,
   "metadata": {},
   "outputs": [
    {
     "data": {
      "text/plain": [
       "(2, 15)"
      ]
     },
     "execution_count": 89,
     "metadata": {},
     "output_type": "execute_result"
    }
   ],
   "source": [
    "# Sample data (5 players, 10 rounds)\n",
    "scores = np.random.randint(60, 300, size=(5, 20))\n",
    "\n",
    "# Player with highest average score\n",
    "highest_avg_scoreplayer = np.argmax(np.mean(scores, axis=1))\n",
    "\n",
    "# Round with highest total score\n",
    "highest_total_scoreround = np.argmax(np.sum(scores, axis=0))\n",
    "\n",
    "highest_avg_scoreplayer, highest_total_scoreround\n"
   ]
  },
  {
   "cell_type": "markdown",
   "metadata": {},
   "source": [
    "<h4>Financial Portfolio Analysis<h4>"
   ]
  },
  {
   "cell_type": "code",
   "execution_count": 87,
   "metadata": {},
   "outputs": [
    {
     "data": {
      "text/plain": [
       "(array([-0.37400034, -0.13834732, -0.25340594,  0.1969485 ,  0.48998821,\n",
       "        -0.28875171,  0.43229123,  0.812748  , -0.39140937, -0.25029433,\n",
       "         0.06569314, -0.20512144, -1.01093442, -0.29306322,  0.49125925,\n",
       "         0.23890732,  0.13456702,  0.62766997,  0.51159061,  0.19655007,\n",
       "         0.36619   ,  0.15030024,  0.62222441, -0.14723008, -0.25230876,\n",
       "         0.07425074,  0.73445854,  0.15895881,  0.19503446,  0.02158909,\n",
       "        -0.18219967,  0.45759241,  0.05158143, -0.08580633,  0.54963973,\n",
       "         0.00320629,  0.72474852,  0.35345426,  0.56651317,  0.00427387]),\n",
       " 0)"
      ]
     },
     "execution_count": 87,
     "metadata": {},
     "output_type": "execute_result"
    }
   ],
   "source": [
    "# Sample data (4 assets, 30 days)\n",
    "Return = np.random.randn(6, 40)\n",
    "\n",
    "# Portfolio's overall daily return\n",
    "overall_daily_return = np.mean(Return, axis=0)\n",
    "\n",
    "# Asset with highest volatility\n",
    "highest_volatility_asset = np.argmax(np.std(Return, axis=1))\n",
    "\n",
    "overall_daily_return, highest_volatility_asset\n"
   ]
  }
 ],
 "metadata": {
  "kernelspec": {
   "display_name": "Python 3",
   "language": "python",
   "name": "python3"
  },
  "language_info": {
   "codemirror_mode": {
    "name": "ipython",
    "version": 3
   },
   "file_extension": ".py",
   "mimetype": "text/x-python",
   "name": "python",
   "nbconvert_exporter": "python",
   "pygments_lexer": "ipython3",
   "version": "3.11.2"
  }
 },
 "nbformat": 4,
 "nbformat_minor": 2
}
