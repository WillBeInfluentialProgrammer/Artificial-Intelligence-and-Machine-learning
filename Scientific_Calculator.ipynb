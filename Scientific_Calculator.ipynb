{
 "cells": [
  {
   "cell_type": "markdown",
   "metadata": {},
   "source": [
    "<h4> Scientific Calculator in Python <h4>"
   ]
  },
  {
   "cell_type": "code",
   "execution_count": 1,
   "metadata": {},
   "outputs": [],
   "source": [
    "import math"
   ]
  },
  {
   "cell_type": "code",
   "execution_count": null,
   "metadata": {},
   "outputs": [],
   "source": [
    "\n",
    "\n",
    "def scientific_calculator():\n",
    "    print(\"Welcome to the Scientific Calculator!\")\n",
    "    print(\"1. Addition\")\n",
    "    print(\"2. Subtraction\")\n",
    "    print(\"3. Multiplication\")\n",
    "    print(\"4. Division\")\n",
    "    print(\"5. Exponentiation\")\n",
    "    print(\"6. Square Root\")\n",
    "    print(\"7. Trigonometric Functions\")\n",
    "    print(\"8. Exit\")\n",
    "    \n",
    "    choice = input(\"Enter your choice (1-8): \")\n",
    "\n",
    "    if choice == '1':\n",
    "        num1 = float(input(\"Enter first number: \"))\n",
    "        num2 = float(input(\"Enter second number: \"))\n",
    "        print(\"Result:\", num1 + num2)\n",
    "    elif choice == '2':\n",
    "        num1 = float(input(\"Enter first number: \"))\n",
    "        num2 = float(input(\"Enter second number: \"))\n",
    "        print(\"Result:\", num1 - num2)\n",
    "    elif choice == '3':\n",
    "        num1 = float(input(\"Enter first number: \"))\n",
    "        num2 = float(input(\"Enter second number: \"))\n",
    "        print(\"Result:\", num1 * num2)\n",
    "    elif choice == '4':\n",
    "        num1 = float(input(\"Enter first number: \"))\n",
    "        num2 = float(input(\"Enter second number: \"))\n",
    "        if num2 == 0:\n",
    "            print(\"Error: Cannot divide by zero\")\n",
    "        else:\n",
    "            print(\"Result:\", num1 / num2)\n",
    "    elif choice == '5':\n",
    "        num = float(input(\"Enter the number: \"))\n",
    "        exponent = float(input(\"Enter the exponent: \"))\n",
    "        print(\"Result:\", math.pow(num, exponent))\n",
    "    elif choice == '6':\n",
    "        num = float(input(\"Enter the number: \"))\n",
    "        print(\"Result:\", math.sqrt(num))\n",
    "    elif choice == '7':\n",
    "        angle = float(input(\"Enter the angle in degrees: \"))\n",
    "        print(\"1. Sine\")\n",
    "        print(\"2. Cosine\")\n",
    "        print(\"3. Tangent\")\n",
    "        trig_choice = input(\"Enter your choice (1-3): \")\n",
    "        if trig_choice == '1':\n",
    "            print(\"Result:\", math.sin(math.radians(angle)))\n",
    "        elif trig_choice == '2':\n",
    "            print(\"Result:\", math.cos(math.radians(angle)))\n",
    "        elif trig_choice == '3':\n",
    "            print(\"Result:\", math.tan(math.radians(angle)))\n",
    "        else:\n",
    "            print(\"Invalid choice\")\n",
    "    elif choice == '8':\n",
    "        print(\"Exiting...\")\n",
    "        return\n",
    "    else:\n",
    "        print(\"Invalid choice\")\n",
    "\n",
    "    scientific_calculator()\n",
    "\n",
    "scientific_calculator()\n"
   ]
  }
 ],
 "metadata": {
  "kernelspec": {
   "display_name": "Python 3",
   "language": "python",
   "name": "python3"
  },
  "language_info": {
   "codemirror_mode": {
    "name": "ipython",
    "version": 3
   },
   "file_extension": ".py",
   "mimetype": "text/x-python",
   "name": "python",
   "nbconvert_exporter": "python",
   "pygments_lexer": "ipython3",
   "version": "3.11.2"
  }
 },
 "nbformat": 4,
 "nbformat_minor": 2
}
